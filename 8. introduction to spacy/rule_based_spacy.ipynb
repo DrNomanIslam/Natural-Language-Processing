{
 "cells": [
  {
   "cell_type": "code",
   "execution_count": null,
   "id": "ae41882a",
   "metadata": {},
   "outputs": [],
   "source": [
    "#entity ruler"
   ]
  },
  {
   "cell_type": "code",
   "execution_count": 1,
   "id": "b81e1e19",
   "metadata": {},
   "outputs": [],
   "source": [
    "import spacy"
   ]
  },
  {
   "cell_type": "code",
   "execution_count": 22,
   "id": "7cfe284f",
   "metadata": {},
   "outputs": [],
   "source": [
    "nlp = spacy.load('en_core_web_sm')"
   ]
  },
  {
   "cell_type": "code",
   "execution_count": 23,
   "id": "29e408fa",
   "metadata": {},
   "outputs": [],
   "source": [
    "text= 'katipahari is located near nazimabad'"
   ]
  },
  {
   "cell_type": "code",
   "execution_count": 24,
   "id": "68a005b9",
   "metadata": {},
   "outputs": [],
   "source": [
    "ruler = nlp.add_pipe('entity_ruler',after='ner')\n",
    "patterns = [{'label':'GPE', 'pattern':'nazimabad'}]\n",
    "ruler.add_patterns(patterns)"
   ]
  },
  {
   "cell_type": "code",
   "execution_count": 25,
   "id": "5ace9145",
   "metadata": {},
   "outputs": [],
   "source": [
    "doc = nlp(text)"
   ]
  },
  {
   "cell_type": "code",
   "execution_count": 26,
   "id": "0c728e22",
   "metadata": {},
   "outputs": [
    {
     "name": "stdout",
     "output_type": "stream",
     "text": [
      "katipahari ORG\n",
      "nazimabad GPE\n"
     ]
    }
   ],
   "source": [
    "for ent in doc.ents:\n",
    "    print(ent.text,ent.label_)"
   ]
  },
  {
   "cell_type": "code",
   "execution_count": 2,
   "id": "bc18f97b",
   "metadata": {},
   "outputs": [],
   "source": [
    "#complex rules"
   ]
  },
  {
   "cell_type": "code",
   "execution_count": 64,
   "id": "ddd3fb15",
   "metadata": {},
   "outputs": [],
   "source": [
    "text = \"This is a sample number 92 312 555-5555.\""
   ]
  },
  {
   "cell_type": "code",
   "execution_count": 65,
   "id": "a1477a79",
   "metadata": {},
   "outputs": [],
   "source": [
    "nlp=spacy.blank('en')"
   ]
  },
  {
   "cell_type": "code",
   "execution_count": 66,
   "id": "c76cec76",
   "metadata": {},
   "outputs": [],
   "source": [
    "ruler = nlp.add_pipe('entity_ruler')"
   ]
  },
  {
   "cell_type": "code",
   "execution_count": 67,
   "id": "7cf888e0",
   "metadata": {},
   "outputs": [],
   "source": [
    "patterns = [\n",
    "                {\"label\": \"PHONE_NUMBER\", \"pattern\": [{\"SHAPE\": \"dd\"}, {\"SHAPE\": \"ddd\"}, {\"SHAPE\": \"ddd\"},\n",
    "                {\"ORTH\": \"-\", \"OP\": \"?\"}, {\"SHAPE\": \"dddd\"}]}\n",
    "]"
   ]
  },
  {
   "cell_type": "code",
   "execution_count": 68,
   "id": "092645bf",
   "metadata": {},
   "outputs": [],
   "source": [
    "ruler.add_patterns(patterns)"
   ]
  },
  {
   "cell_type": "code",
   "execution_count": 69,
   "id": "769b16c3",
   "metadata": {},
   "outputs": [],
   "source": [
    "doc = nlp(text)"
   ]
  },
  {
   "cell_type": "code",
   "execution_count": 70,
   "id": "f5312151",
   "metadata": {},
   "outputs": [
    {
     "name": "stdout",
     "output_type": "stream",
     "text": [
      "92 312 555-5555 PHONE_NUMBER\n"
     ]
    }
   ],
   "source": [
    "for ent in doc.ents:\n",
    "    print(ent.text,ent.label_)"
   ]
  },
  {
   "cell_type": "code",
   "execution_count": 71,
   "id": "d726ceab",
   "metadata": {},
   "outputs": [],
   "source": [
    "#matcher"
   ]
  },
  {
   "cell_type": "code",
   "execution_count": 72,
   "id": "2cf852c7",
   "metadata": {},
   "outputs": [],
   "source": [
    "from spacy.matcher import Matcher"
   ]
  },
  {
   "cell_type": "code",
   "execution_count": 73,
   "id": "70e2592d",
   "metadata": {},
   "outputs": [],
   "source": [
    "nlp = spacy.load('en_core_web_sm')"
   ]
  },
  {
   "cell_type": "code",
   "execution_count": 74,
   "id": "af8e3af2",
   "metadata": {},
   "outputs": [],
   "source": [
    "matcher = Matcher(nlp.vocab)"
   ]
  },
  {
   "cell_type": "code",
   "execution_count": 77,
   "id": "f3e9dd17",
   "metadata": {},
   "outputs": [],
   "source": [
    "pattern = [{'LIKE_EMAIL': True}]"
   ]
  },
  {
   "cell_type": "code",
   "execution_count": 78,
   "id": "c0a5588f",
   "metadata": {},
   "outputs": [],
   "source": [
    "matcher.add('EMAIL_ADDRESS',[pattern])"
   ]
  },
  {
   "cell_type": "code",
   "execution_count": 79,
   "id": "66f0a256",
   "metadata": {},
   "outputs": [],
   "source": [
    "doc = nlp('My email address is noman.islam@gmail.com')"
   ]
  },
  {
   "cell_type": "code",
   "execution_count": 81,
   "id": "59c6e56c",
   "metadata": {},
   "outputs": [],
   "source": [
    "matches = matcher(doc)"
   ]
  },
  {
   "cell_type": "code",
   "execution_count": 82,
   "id": "7f260e30",
   "metadata": {},
   "outputs": [
    {
     "data": {
      "text/plain": [
       "'EMAIL_ADDRESS'"
      ]
     },
     "execution_count": 82,
     "metadata": {},
     "output_type": "execute_result"
    }
   ],
   "source": [
    "nlp.vocab[matches[0][0]].text"
   ]
  },
  {
   "cell_type": "code",
   "execution_count": 83,
   "id": "7e94e946",
   "metadata": {},
   "outputs": [],
   "source": [
    "with open (\"data/wiki_us.txt\", \"r\") as f:\n",
    "    text = f.read()"
   ]
  },
  {
   "cell_type": "code",
   "execution_count": 84,
   "id": "dd00bb5d",
   "metadata": {},
   "outputs": [],
   "source": [
    "nlp=spacy.load('en_core_web_sm')"
   ]
  },
  {
   "cell_type": "code",
   "execution_count": 85,
   "id": "1a05af1c",
   "metadata": {},
   "outputs": [],
   "source": [
    "matcher=Matcher(nlp.vocab)"
   ]
  },
  {
   "cell_type": "code",
   "execution_count": 86,
   "id": "f8cf5761",
   "metadata": {},
   "outputs": [],
   "source": [
    "pattern=[{'POS':'PROPN'}]"
   ]
  },
  {
   "cell_type": "code",
   "execution_count": 87,
   "id": "f5d451d0",
   "metadata": {},
   "outputs": [],
   "source": [
    "matcher.add('PN',[pattern])"
   ]
  },
  {
   "cell_type": "code",
   "execution_count": 88,
   "id": "c62175af",
   "metadata": {},
   "outputs": [],
   "source": [
    "doc = nlp(text)"
   ]
  },
  {
   "cell_type": "code",
   "execution_count": 89,
   "id": "452afcd6",
   "metadata": {},
   "outputs": [],
   "source": [
    "matches = matcher(doc)"
   ]
  },
  {
   "cell_type": "code",
   "execution_count": 91,
   "id": "3d56320a",
   "metadata": {},
   "outputs": [
    {
     "data": {
      "text/plain": [
       "95"
      ]
     },
     "execution_count": 91,
     "metadata": {},
     "output_type": "execute_result"
    }
   ],
   "source": [
    "len(matches)"
   ]
  },
  {
   "cell_type": "code",
   "execution_count": 93,
   "id": "ecb75743",
   "metadata": {},
   "outputs": [
    {
     "name": "stdout",
     "output_type": "stream",
     "text": [
      "United\n",
      "States\n",
      "America\n",
      "U.S.A.\n",
      "USA\n",
      "United\n",
      "States\n",
      "U.S.\n",
      "US\n",
      "America\n",
      "North\n",
      "America\n",
      "United\n",
      "States\n",
      "Canada\n",
      "Mexico\n",
      "Bahamas\n",
      "Cuba\n",
      "Washington\n",
      "D.C.\n",
      "New\n",
      "York\n",
      "Paleo\n",
      "Indians\n",
      "Siberia\n",
      "United\n",
      "States\n",
      "East\n",
      "Coast\n",
      "Great\n",
      "Britain\n",
      "American\n",
      "Revolutionary\n",
      "War\n",
      "U.S.\n",
      "North\n",
      "America\n",
      "Americans\n",
      "United\n",
      "States\n",
      "Slavery\n",
      "United\n",
      "States\n",
      "American\n",
      "Civil\n",
      "War\n",
      "Spanishâ€“American\n",
      "War\n",
      "World\n",
      "War\n",
      "U.S.\n",
      "World\n",
      "War\n",
      "II\n",
      "Cold\n",
      "War\n",
      "United\n",
      "States\n",
      "Korean\n",
      "War\n",
      "Vietnam\n",
      "War\n",
      "Soviet\n",
      "Union\n",
      "Space\n",
      "Race\n",
      "Moon\n",
      "Soviet\n",
      "Union\n",
      "Cold\n",
      "War\n",
      "United\n",
      "States\n",
      "United\n",
      "States\n",
      "United\n",
      "Nations\n",
      "World\n",
      "Bank\n",
      "International\n",
      "Monetary\n",
      "Fund\n",
      "Organization\n",
      "American\n",
      "States\n",
      "NATO\n",
      "United\n",
      "Nations\n",
      "Security\n",
      "Council\n",
      "United\n",
      "States\n",
      "GDP\n",
      "United\n",
      "States\n"
     ]
    }
   ],
   "source": [
    "for match in matches:\n",
    "    print(doc[match[1]:match[2]])"
   ]
  },
  {
   "cell_type": "code",
   "execution_count": 94,
   "id": "18c23da0",
   "metadata": {},
   "outputs": [
    {
     "name": "stdout",
     "output_type": "stream",
     "text": [
      "141\n",
      "(3232560085755078826, 1, 2) United\n",
      "(3232560085755078826, 1, 3) United States\n",
      "(3232560085755078826, 2, 3) States\n",
      "(3232560085755078826, 4, 5) America\n",
      "(3232560085755078826, 6, 7) U.S.A.\n",
      "(3232560085755078826, 8, 9) USA\n",
      "(3232560085755078826, 15, 16) United\n",
      "(3232560085755078826, 15, 17) United States\n",
      "(3232560085755078826, 16, 17) States\n",
      "(3232560085755078826, 18, 19) U.S.\n"
     ]
    }
   ],
   "source": [
    "matcher = Matcher(nlp.vocab)\n",
    "pattern = [{\"POS\": \"PROPN\", \"OP\": \"+\"}]\n",
    "matcher.add(\"PROPER_NOUNS\", [pattern])\n",
    "doc = nlp(text)\n",
    "matches = matcher(doc)\n",
    "print (len(matches))\n",
    "for match in matches[:10]:\n",
    "    print (match, doc[match[1]:match[2]])"
   ]
  },
  {
   "cell_type": "code",
   "execution_count": 97,
   "id": "64d35373",
   "metadata": {},
   "outputs": [
    {
     "name": "stdout",
     "output_type": "stream",
     "text": [
      "56\n",
      "(3232560085755078826, 1, 3) United States\n",
      "(3232560085755078826, 4, 5) America\n",
      "(3232560085755078826, 6, 7) U.S.A.\n",
      "(3232560085755078826, 8, 9) USA\n",
      "(3232560085755078826, 15, 17) United States\n",
      "(3232560085755078826, 18, 19) U.S.\n",
      "(3232560085755078826, 20, 21) US\n",
      "(3232560085755078826, 23, 24) America\n",
      "(3232560085755078826, 31, 33) North America\n",
      "(3232560085755078826, 86, 88) United States\n"
     ]
    }
   ],
   "source": [
    "matcher = Matcher(nlp.vocab)\n",
    "pattern = [{\"POS\": \"PROPN\", \"OP\": \"+\"}]\n",
    "matcher.add(\"PROPER_NOUNS\", [pattern],greedy='LONGEST')\n",
    "doc = nlp(text)\n",
    "matches = matcher(doc)\n",
    "matches.sort(key=lambda x: x[1])\n",
    "print (len(matches))\n",
    "for match in matches[:10]:\n",
    "    print (match, doc[match[1]:match[2]])"
   ]
  },
  {
   "cell_type": "code",
   "execution_count": 98,
   "id": "d93e6e9a",
   "metadata": {},
   "outputs": [
    {
     "name": "stdout",
     "output_type": "stream",
     "text": [
      "8\n",
      "(3232560085755078826, 86, 89) United States shares\n",
      "(3232560085755078826, 159, 161) Indians migrated\n",
      "(3232560085755078826, 184, 187) United States emerged\n",
      "(3232560085755078826, 205, 208) Great Britain led\n",
      "(3232560085755078826, 228, 230) U.S. began\n",
      "(3232560085755078826, 258, 261) United States spanned\n",
      "(3232560085755078826, 282, 286) American Civil War led\n",
      "(3232560085755078826, 323, 326) United States fought\n"
     ]
    }
   ],
   "source": [
    "matcher = Matcher(nlp.vocab)\n",
    "pattern = [{\"POS\": \"PROPN\", \"OP\": \"+\"}, {\"POS\": \"VERB\"}]\n",
    "matcher.add(\"PROPER_NOUNS\", [pattern],greedy='LONGEST')\n",
    "doc = nlp(text)\n",
    "matches = matcher(doc)\n",
    "matches.sort(key=lambda x: x[1])\n",
    "print (len(matches))\n",
    "for match in matches[:10]:\n",
    "    print (match, doc[match[1]:match[2]])"
   ]
  },
  {
   "cell_type": "code",
   "execution_count": null,
   "id": "6fc760ce",
   "metadata": {},
   "outputs": [],
   "source": []
  }
 ],
 "metadata": {
  "kernelspec": {
   "display_name": "Python 3 (ipykernel)",
   "language": "python",
   "name": "python3"
  },
  "language_info": {
   "codemirror_mode": {
    "name": "ipython",
    "version": 3
   },
   "file_extension": ".py",
   "mimetype": "text/x-python",
   "name": "python",
   "nbconvert_exporter": "python",
   "pygments_lexer": "ipython3",
   "version": "3.9.7"
  }
 },
 "nbformat": 4,
 "nbformat_minor": 5
}
