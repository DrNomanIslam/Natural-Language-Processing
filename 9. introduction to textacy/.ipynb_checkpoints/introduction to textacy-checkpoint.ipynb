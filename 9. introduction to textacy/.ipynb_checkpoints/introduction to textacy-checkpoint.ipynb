{
 "cells": [
  {
   "cell_type": "code",
   "execution_count": 13,
   "id": "30a9b614",
   "metadata": {},
   "outputs": [],
   "source": [
    "import textacy\n",
    "from textacy import preprocessing"
   ]
  },
  {
   "cell_type": "markdown",
   "id": "ce9e8f5d",
   "metadata": {},
   "source": [
    "Preprocessing"
   ]
  },
  {
   "cell_type": "code",
   "execution_count": 2,
   "id": "e444eae6",
   "metadata": {},
   "outputs": [],
   "source": [
    "raw_text = \"\"\" The best programs, are the ones written when the programmer is supposed to be working on something else.Mike bought the book for $50 although in Paris it will cost $30 dollars.\n",
    "Don’t document the problem, fix it.This is from https://twitter.com/codewisdom?lang=en. \"\"\""
   ]
  },
  {
   "cell_type": "code",
   "execution_count": 14,
   "id": "dc35cfb9",
   "metadata": {},
   "outputs": [
    {
     "data": {
      "text/plain": [
       "' The best programs  are the ones written when the programmer is supposed to be working on something else Mike bought the book for $50 although in Paris it will cost $30 dollars \\nDon t document the problem  fix it This is from https   twitter com codewisdom lang=en  '"
      ]
     },
     "execution_count": 14,
     "metadata": {},
     "output_type": "execute_result"
    }
   ],
   "source": [
    "preprocessing.remove.punctuation(raw_text)"
   ]
  },
  {
   "cell_type": "code",
   "execution_count": 15,
   "id": "2f69b423",
   "metadata": {},
   "outputs": [
    {
     "data": {
      "text/plain": [
       "' The best programs, are the ones written when the programmer is supposed to be working on something else.Mike bought the book for $50 although in Paris it will cost $30 dollars.\\nDon’t document the problem, fix it.This is from TWITTER '"
      ]
     },
     "execution_count": 15,
     "metadata": {},
     "output_type": "execute_result"
    }
   ],
   "source": [
    "preprocessing.replace.urls(raw_text,'TWITTER')"
   ]
  },
  {
   "cell_type": "code",
   "execution_count": 16,
   "id": "b7bc6c63",
   "metadata": {},
   "outputs": [
    {
     "data": {
      "text/plain": [
       "' The best programs, are the ones written when the programmer is supposed to be working on something else.Mike bought the book for USD50 although in Paris it will cost USD30 dollars.\\nDon’t document the problem, fix it.This is from https://twitter.com/codewisdom?lang=en. '"
      ]
     },
     "execution_count": 16,
     "metadata": {},
     "output_type": "execute_result"
    }
   ],
   "source": [
    "textacy.preprocessing.replace.currency_symbols(raw_text,'USD')"
   ]
  },
  {
   "cell_type": "code",
   "execution_count": 17,
   "id": "5d097287",
   "metadata": {},
   "outputs": [],
   "source": [
    "html = \"\"\"\n",
    "<!DOCTYPE html>\n",
    "<html>\n",
    "<head>\n",
    "<style>\n",
    "\n",
    "</style>\n",
    "<b>The brow fox jumps</b>\n",
    "\"\"\""
   ]
  },
  {
   "cell_type": "code",
   "execution_count": 18,
   "id": "e4b5809c",
   "metadata": {},
   "outputs": [
    {
     "data": {
      "text/plain": [
       "'The brow fox jumps'"
      ]
     },
     "execution_count": 18,
     "metadata": {},
     "output_type": "execute_result"
    }
   ],
   "source": [
    "textacy.preprocessing.remove.html_tags(html)"
   ]
  },
  {
   "cell_type": "code",
   "execution_count": 20,
   "id": "973c1009",
   "metadata": {},
   "outputs": [
    {
     "data": {
      "text/plain": [
       "'_USER_ is OSS for industrial-strength NLP in Python developed by _USER_ _EMOJI_'"
      ]
     },
     "execution_count": 20,
     "metadata": {},
     "output_type": "execute_result"
    }
   ],
   "source": [
    "preproc = preprocessing.make_pipeline(\n",
    "     preprocessing.replace.hashtags,\n",
    "     preprocessing.replace.user_handles,\n",
    "     preprocessing.replace.emojis,\n",
    " )\n",
    "preproc(\"@spacy_io is OSS for industrial-strength NLP in Python developed by @explosion_ai 💥\")"
   ]
  },
  {
   "cell_type": "markdown",
   "id": "87f9f8ec",
   "metadata": {},
   "source": [
    "Similarity"
   ]
  },
  {
   "cell_type": "code",
   "execution_count": 21,
   "id": "f3a6b898",
   "metadata": {},
   "outputs": [
    {
     "data": {
      "text/plain": [
       "0.875"
      ]
     },
     "execution_count": 21,
     "metadata": {},
     "output_type": "execute_result"
    }
   ],
   "source": [
    "textacy.similarity.hamming('String 1','String 2')"
   ]
  },
  {
   "cell_type": "code",
   "execution_count": 22,
   "id": "12996db1",
   "metadata": {},
   "outputs": [
    {
     "data": {
      "text/plain": [
       "0.5"
      ]
     },
     "execution_count": 22,
     "metadata": {},
     "output_type": "execute_result"
    }
   ],
   "source": [
    "textacy.similarity.levenshtein('Str 1','String 2')"
   ]
  },
  {
   "cell_type": "code",
   "execution_count": 23,
   "id": "c1dbb70c",
   "metadata": {},
   "outputs": [
    {
     "data": {
      "text/plain": [
       "0.4444444444444444"
      ]
     },
     "execution_count": 23,
     "metadata": {},
     "output_type": "execute_result"
    }
   ],
   "source": [
    "textacy.similarity.jaccard('Str 1','String 2')"
   ]
  },
  {
   "cell_type": "code",
   "execution_count": 24,
   "id": "19628a9e",
   "metadata": {},
   "outputs": [
    {
     "data": {
      "text/plain": [
       "0.6324555320336759"
      ]
     },
     "execution_count": 24,
     "metadata": {},
     "output_type": "execute_result"
    }
   ],
   "source": [
    "textacy.similarity.cosine('Str 1','String 2')"
   ]
  },
  {
   "cell_type": "markdown",
   "id": "cb079ea7",
   "metadata": {},
   "source": [
    "Stats"
   ]
  },
  {
   "cell_type": "code",
   "execution_count": 28,
   "id": "2b418d44",
   "metadata": {},
   "outputs": [],
   "source": [
    "from textacy import text_stats \n",
    "from textacy import datasets"
   ]
  },
  {
   "cell_type": "code",
   "execution_count": 30,
   "id": "3e98704c",
   "metadata": {},
   "outputs": [
    {
     "name": "stderr",
     "output_type": "stream",
     "text": [
      "C:\\ProgramData\\Anaconda3\\lib\\site-packages\\textacy\\text_stats\\api.py:89: DeprecationWarning: The `TextStats` class is deprecated as of v0.12. Instead, call the stats functions directly -- `text_stats.TextStats(doc).n_sents` => `text_stats.n_sents(doc)` --or set them as custom doc extensions and access them on the ``Doc`` -- `textacy.set_doc_extensions('text_stats'); doc._.n_sents` .\n",
      "  utils.deprecated(\n"
     ]
    },
    {
     "data": {
      "text/plain": [
       "137"
      ]
     },
     "execution_count": 30,
     "metadata": {},
     "output_type": "execute_result"
    }
   ],
   "source": [
    "text = next(datasets.CapitolWords().texts(limit=1))\n",
    "doc = textacy.make_spacy_doc(text,'en_core_web_sm')\n",
    "ts = textacy.text_stats.TextStats(doc)\n",
    "ts.n_words"
   ]
  },
  {
   "cell_type": "code",
   "execution_count": 31,
   "id": "79d4f08a",
   "metadata": {},
   "outputs": [
    {
     "data": {
      "text/plain": [
       "81"
      ]
     },
     "execution_count": 31,
     "metadata": {},
     "output_type": "execute_result"
    }
   ],
   "source": [
    "ts.n_unique_words"
   ]
  },
  {
   "cell_type": "code",
   "execution_count": 32,
   "id": "80656db1",
   "metadata": {},
   "outputs": [
    {
     "data": {
      "text/plain": [
       "(3,\n",
       " 7,\n",
       " 7,\n",
       " 7,\n",
       " 9,\n",
       " 3,\n",
       " 7,\n",
       " 7,\n",
       " 3,\n",
       " 1,\n",
       " 4,\n",
       " 2,\n",
       " 11,\n",
       " 9,\n",
       " 7,\n",
       " 7,\n",
       " 9,\n",
       " 3,\n",
       " 3,\n",
       " 7,\n",
       " 3,\n",
       " 4,\n",
       " 4,\n",
       " 2,\n",
       " 4,\n",
       " 9,\n",
       " 3,\n",
       " 2,\n",
       " 5,\n",
       " 7,\n",
       " 4,\n",
       " 9,\n",
       " 2,\n",
       " 3,\n",
       " 8,\n",
       " 2,\n",
       " 4,\n",
       " 3,\n",
       " 9,\n",
       " 11,\n",
       " 2,\n",
       " 4,\n",
       " 3,\n",
       " 7,\n",
       " 4,\n",
       " 2,\n",
       " 9,\n",
       " 2,\n",
       " 5,\n",
       " 7,\n",
       " 2,\n",
       " 7,\n",
       " 2,\n",
       " 5,\n",
       " 3,\n",
       " 4,\n",
       " 2,\n",
       " 9,\n",
       " 11,\n",
       " 4,\n",
       " 8,\n",
       " 3,\n",
       " 3,\n",
       " 10,\n",
       " 10,\n",
       " 4,\n",
       " 3,\n",
       " 8,\n",
       " 2,\n",
       " 4,\n",
       " 3,\n",
       " 5,\n",
       " 3,\n",
       " 3,\n",
       " 8,\n",
       " 6,\n",
       " 7,\n",
       " 5,\n",
       " 4,\n",
       " 4,\n",
       " 5,\n",
       " 10,\n",
       " 1,\n",
       " 4,\n",
       " 8,\n",
       " 6,\n",
       " 4,\n",
       " 3,\n",
       " 9,\n",
       " 4,\n",
       " 7,\n",
       " 3,\n",
       " 8,\n",
       " 3,\n",
       " 3,\n",
       " 10,\n",
       " 10,\n",
       " 4,\n",
       " 4,\n",
       " 7,\n",
       " 4,\n",
       " 3,\n",
       " 3,\n",
       " 6,\n",
       " 6,\n",
       " 3,\n",
       " 4,\n",
       " 1,\n",
       " 10,\n",
       " 10,\n",
       " 3,\n",
       " 3,\n",
       " 2,\n",
       " 6,\n",
       " 10,\n",
       " 3,\n",
       " 7,\n",
       " 4,\n",
       " 2,\n",
       " 4,\n",
       " 3,\n",
       " 8,\n",
       " 6,\n",
       " 4,\n",
       " 4,\n",
       " 2,\n",
       " 4,\n",
       " 4,\n",
       " 4,\n",
       " 3,\n",
       " 4,\n",
       " 2,\n",
       " 4,\n",
       " 4,\n",
       " 4,\n",
       " 4,\n",
       " 2)"
      ]
     },
     "execution_count": 32,
     "metadata": {},
     "output_type": "execute_result"
    }
   ],
   "source": [
    "ts.n_chars_per_word"
   ]
  },
  {
   "cell_type": "markdown",
   "id": "9378e1ae",
   "metadata": {},
   "source": [
    "Data Augmentation"
   ]
  },
  {
   "cell_type": "code",
   "execution_count": 35,
   "id": "f8d036e9",
   "metadata": {},
   "outputs": [],
   "source": [
    "from textacy import augmentation"
   ]
  },
  {
   "cell_type": "code",
   "execution_count": 36,
   "id": "6700df39",
   "metadata": {},
   "outputs": [],
   "source": [
    "tfs = [augmentation.transforms.delete_words, augmentation.transforms.swap_chars, augmentation.transforms.delete_chars]"
   ]
  },
  {
   "cell_type": "code",
   "execution_count": 38,
   "id": "5dc00788",
   "metadata": {},
   "outputs": [],
   "source": [
    "augmenter = augmentation.Augmenter(tfs, num=[0.4, 0.8, 0.6])"
   ]
  },
  {
   "cell_type": "code",
   "execution_count": 39,
   "id": "7e00f463",
   "metadata": {},
   "outputs": [
    {
     "data": {
      "text/plain": [
       "Mr. Speaker, 480,000 Federal employees are working without apy, a form of involuntay servitude; 280,000 Federal employees are not working, and they will be paid. Virtually all of these workers have mortgages to pay, cihldren to fed, and financial obligations to meet.\n",
       "Mr. Speaker, what is happenign to these workers is immoral, is wrong, an must be rectified immediately. Nwet Gingrich and the Republican leadership must not continue to hold the House and the American people hostage while they psh their disastrous 7-year balanced budget plan. The gentleman from Georgia, Mr. Gingrich, and the Republican leadership must join Sentaor Dole and the entire Senate and pass a continuing resolution now, now to reopn Government.\n",
       "Mr. Speaker, that is what the American people awnt, that is what they ned, and that is what this body must do."
      ]
     },
     "execution_count": 39,
     "metadata": {},
     "output_type": "execute_result"
    }
   ],
   "source": [
    "augmenter.apply_transforms(doc, lang=\"en_core_web_sm\")"
   ]
  },
  {
   "cell_type": "code",
   "execution_count": 40,
   "id": "04cb0249",
   "metadata": {},
   "outputs": [
    {
     "data": {
      "text/plain": [
       "Mr. Speaker, 480,000 Federal employees are working without pay, a form of involuntary servitude; 280,000 Federal employees are not working, and they will be paid. Virtually all of these workers have mortgages to pay, children to feed, and financial obligations to meet.\n",
       "Mr. Speaker, what is happening to these workers is immoral, is wrong, and must be rectified immediately. Newt Gingrich and the Republican leadership must not continue to hold the House and the American people hostage while they push their disastrous 7-year balanced budget plan. The gentleman from Georgia, Mr. Gingrich, and the Republican leadership must join Senator Dole and the entire Senate and pass a continuing resolution now, now to reopen Government.\n",
       "Mr. Speaker, that is what the American people want, that is what they need, and that is what this body must do."
      ]
     },
     "execution_count": 40,
     "metadata": {},
     "output_type": "execute_result"
    }
   ],
   "source": [
    "doc"
   ]
  },
  {
   "cell_type": "markdown",
   "id": "e2c36c5f",
   "metadata": {},
   "source": [
    "Information extraction"
   ]
  },
  {
   "cell_type": "code",
   "execution_count": 41,
   "id": "cfab24f7",
   "metadata": {},
   "outputs": [],
   "source": [
    "from textacy import extract"
   ]
  },
  {
   "cell_type": "code",
   "execution_count": 46,
   "id": "a70d6859",
   "metadata": {},
   "outputs": [
    {
     "name": "stdout",
     "output_type": "stream",
     "text": [
      "Mr. Speaker\n",
      "480,000 Federal\n",
      "Federal employees\n",
      "involuntary servitude\n",
      "280,000 Federal\n",
      "Federal employees\n",
      "financial obligations\n",
      "Mr. Speaker\n",
      "rectified immediately\n",
      "Newt Gingrich\n",
      "Republican leadership\n",
      "American people\n",
      "people hostage\n",
      "disastrous 7\n",
      "year balanced\n",
      "balanced budget\n",
      "budget plan\n",
      "Mr. Gingrich\n",
      "Republican leadership\n",
      "join Senator\n",
      "Senator Dole\n",
      "entire Senate\n",
      "continuing resolution\n",
      "reopen Government\n",
      "Mr. Speaker\n",
      "American people\n",
      "people want\n"
     ]
    }
   ],
   "source": [
    "for n in extract.ngrams(doc,n=2):\n",
    "    print(n)"
   ]
  },
  {
   "cell_type": "code",
   "execution_count": 48,
   "id": "985efbd2",
   "metadata": {},
   "outputs": [
    {
     "name": "stdout",
     "output_type": "stream",
     "text": [
      "Speaker\n",
      "480,000\n",
      "280,000\n",
      "Speaker\n",
      "Newt Gingrich\n",
      "Republican\n",
      "House\n",
      "American\n",
      "7-year\n",
      "Georgia\n",
      "Gingrich\n",
      "Republican\n",
      "Dole\n",
      "Senate\n",
      "Speaker\n",
      "American\n"
     ]
    }
   ],
   "source": [
    "for ent in extract.terms(doc, ents=extract.entities):\n",
    "    print(ent)"
   ]
  },
  {
   "cell_type": "code",
   "execution_count": null,
   "id": "ee7fc927",
   "metadata": {},
   "outputs": [],
   "source": []
  }
 ],
 "metadata": {
  "kernelspec": {
   "display_name": "Python 3 (ipykernel)",
   "language": "python",
   "name": "python3"
  },
  "language_info": {
   "codemirror_mode": {
    "name": "ipython",
    "version": 3
   },
   "file_extension": ".py",
   "mimetype": "text/x-python",
   "name": "python",
   "nbconvert_exporter": "python",
   "pygments_lexer": "ipython3",
   "version": "3.9.7"
  }
 },
 "nbformat": 4,
 "nbformat_minor": 5
}
