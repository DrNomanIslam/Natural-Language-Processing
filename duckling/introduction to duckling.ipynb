{
 "cells": [
  {
   "cell_type": "code",
   "execution_count": 4,
   "metadata": {},
   "outputs": [],
   "source": [
    "from duckling import DucklingWrapper\n",
    "from pprint import pprint"
   ]
  },
  {
   "cell_type": "code",
   "execution_count": 5,
   "metadata": {},
   "outputs": [],
   "source": [
    "d = DucklingWrapper()"
   ]
  },
  {
   "cell_type": "code",
   "execution_count": 7,
   "metadata": {},
   "outputs": [
    {
     "name": "stdout",
     "output_type": "stream",
     "text": [
      "[{'dim': 'time',\n",
      "  'end': 21,\n",
      "  'start': 11,\n",
      "  'text': 'at 11:45am',\n",
      "  'value': {'grain': 'minute',\n",
      "            'others': [{'grain': 'minute',\n",
      "                        'value': '2022-05-06T11:45:00.000+05:00'},\n",
      "                       {'grain': 'minute',\n",
      "                        'value': '2022-05-07T11:45:00.000+05:00'},\n",
      "                       {'grain': 'minute',\n",
      "                        'value': '2022-05-08T11:45:00.000+05:00'}],\n",
      "            'value': '2022-05-06T11:45:00.000+05:00'}}]\n"
     ]
    }
   ],
   "source": [
    "pprint(d.parse_time(u'Let\\'s meet at 11:45am'))"
   ]
  },
  {
   "cell_type": "code",
   "execution_count": 8,
   "metadata": {},
   "outputs": [
    {
     "name": "stdout",
     "output_type": "stream",
     "text": [
      "[{'dim': 'time',\n",
      "  'end': 45,\n",
      "  'start': 40,\n",
      "  'text': 'today',\n",
      "  'value': {'grain': 'day',\n",
      "            'others': [{'grain': 'day',\n",
      "                        'value': '2022-05-05T00:00:00.000+05:00'}],\n",
      "            'value': '2022-05-05T00:00:00.000+05:00'}},\n",
      " {'dim': 'time',\n",
      "  'end': 17,\n",
      "  'start': 11,\n",
      "  'text': 'twenty',\n",
      "  'value': {'grain': 'year',\n",
      "            'others': [],\n",
      "            'value': '2020-01-01T00:00:00.000+05:00'}}]\n"
     ]
    }
   ],
   "source": [
    "pprint(d.parse_time(u'You owe me twenty bucks, please call me today'))"
   ]
  },
  {
   "cell_type": "code",
   "execution_count": 9,
   "metadata": {},
   "outputs": [
    {
     "name": "stdout",
     "output_type": "stream",
     "text": [
      "[{'dim': 'temperature',\n",
      "  'end': 65,\n",
      "  'start': 55,\n",
      "  'text': '65 degrees',\n",
      "  'value': {'unit': 'degree', 'value': 65.0}},\n",
      " {'dim': 'temperature',\n",
      "  'end': 51,\n",
      "  'start': 33,\n",
      "  'text': 'thirty two celsius',\n",
      "  'value': {'unit': 'celsius', 'value': 32.0}}]\n",
      "[{'dim': 'temperature',\n",
      "  'end': 97,\n",
      "  'start': 87,\n",
      "  'text': '37 degrees',\n",
      "  'value': {'unit': 'degree', 'value': 37.0}},\n",
      " {'dim': 'temperature',\n",
      "  'end': 76,\n",
      "  'start': 49,\n",
      "  'text': 'thirty-five degrees celcius',\n",
      "  'value': {'unit': 'celsius', 'value': 35.0}}]\n"
     ]
    }
   ],
   "source": [
    "pprint(d.parse_temperature(u'Let\\'s change the temperatur from thirty two celsius to 65 degrees'))\n",
    "pprint(d.parse_temperature(u\"It's getting hotter day by day, yesterday it was thirty-five degrees celcius today its 37 degrees \"))"
   ]
  },
  {
   "cell_type": "code",
   "execution_count": 10,
   "metadata": {},
   "outputs": [
    {
     "name": "stdout",
     "output_type": "stream",
     "text": [
      "[{'dim': 'timezone',\n",
      "  'end': 22,\n",
      "  'start': 19,\n",
      "  'text': 'IST',\n",
      "  'value': {'value': 'IST'}}]\n",
      "[{'dim': 'timezone',\n",
      "  'end': 23,\n",
      "  'start': 20,\n",
      "  'text': 'EST',\n",
      "  'value': {'value': 'EST'}}]\n"
     ]
    }
   ],
   "source": [
    "pprint(d.parse_timezone(u\"Let's meet at 10pm IST\"))\n",
    "pprint(d.parse_timezone(u\"Let's meet at 22:00 EST\"))"
   ]
  },
  {
   "cell_type": "code",
   "execution_count": 11,
   "metadata": {},
   "outputs": [
    {
     "data": {
      "text/plain": [
       "[{'dim': 'number',\n",
       "  'text': '20',\n",
       "  'start': 11,\n",
       "  'end': 13,\n",
       "  'value': {'value': 20.0}}]"
      ]
     },
     "execution_count": 11,
     "metadata": {},
     "output_type": "execute_result"
    }
   ],
   "source": [
    "d.parse_number(u\"Hey i am a 20 year old student from Alaska\")"
   ]
  },
  {
   "cell_type": "code",
   "execution_count": 12,
   "metadata": {},
   "outputs": [
    {
     "data": {
      "text/plain": [
       "[{'dim': 'ordinal',\n",
       "  'text': '2nd',\n",
       "  'start': 7,\n",
       "  'end': 10,\n",
       "  'value': {'value': 2}},\n",
       " {'dim': 'ordinal',\n",
       "  'text': '1st',\n",
       "  'start': 22,\n",
       "  'end': 25,\n",
       "  'value': {'value': 1}}]"
      ]
     },
     "execution_count": 12,
     "metadata": {},
     "output_type": "execute_result"
    }
   ],
   "source": [
    "d.parse_ordinal(u\"I came 2nd and u came 1st in a race\")"
   ]
  },
  {
   "cell_type": "code",
   "execution_count": 18,
   "metadata": {},
   "outputs": [
    {
     "data": {
      "text/plain": [
       "[{'dim': 'amount-of-money',\n",
       "  'text': 'Rs. 3',\n",
       "  'start': 16,\n",
       "  'end': 21,\n",
       "  'value': {'value': 3.0, 'unit': 'INR'}}]"
      ]
     },
     "execution_count": 18,
     "metadata": {},
     "output_type": "execute_result"
    }
   ],
   "source": [
    "d.parse_money(u\"This meal costs Rs. 3\")"
   ]
  },
  {
   "cell_type": "code",
   "execution_count": 19,
   "metadata": {},
   "outputs": [
    {
     "data": {
      "text/plain": [
       "[{'dim': 'email',\n",
       "  'text': 'abcxyz@gmail.com',\n",
       "  'start': 12,\n",
       "  'end': 28,\n",
       "  'value': {'value': 'abcxyz@gmail.com'}}]"
      ]
     },
     "execution_count": 19,
     "metadata": {},
     "output_type": "execute_result"
    }
   ],
   "source": [
    "d.parse_email(u\"my email is abcxyz@gmail.com\")"
   ]
  },
  {
   "cell_type": "code",
   "execution_count": 20,
   "metadata": {},
   "outputs": [
    {
     "data": {
      "text/plain": [
       "[{'dim': 'duration',\n",
       "  'text': '4 hrs',\n",
       "  'start': 40,\n",
       "  'end': 45,\n",
       "  'value': {'value': 4.0,\n",
       "   'unit': 'hour',\n",
       "   'year': None,\n",
       "   'month': None,\n",
       "   'day': None,\n",
       "   'hour': 4,\n",
       "   'minute': None,\n",
       "   'second': None}},\n",
       " {'dim': 'duration',\n",
       "  'text': '2 years',\n",
       "  'start': 69,\n",
       "  'end': 76,\n",
       "  'value': {'value': 2.0,\n",
       "   'unit': 'year',\n",
       "   'year': 2,\n",
       "   'month': None,\n",
       "   'day': None,\n",
       "   'hour': None,\n",
       "   'minute': None,\n",
       "   'second': None}}]"
      ]
     },
     "execution_count": 20,
     "metadata": {},
     "output_type": "execute_result"
    }
   ],
   "source": [
    "d.parse_duration(u\"I have been working on this project for 4 hrs every month for almost 2 years.\")"
   ]
  },
  {
   "cell_type": "code",
   "execution_count": 21,
   "metadata": {},
   "outputs": [
    {
     "data": {
      "text/plain": [
       "[{'dim': 'url',\n",
       "  'text': 'http://www.practicalnlp.ai/',\n",
       "  'start': 51,\n",
       "  'end': 78,\n",
       "  'value': {'value': 'http://www.practicalnlp.ai/'}},\n",
       " {'dim': 'url',\n",
       "  'text': 'http://www.practicalnlp.ai/',\n",
       "  'start': 51,\n",
       "  'end': 78,\n",
       "  'value': {'value': 'http://www.practicalnlp.ai/'}}]"
      ]
     },
     "execution_count": 21,
     "metadata": {},
     "output_type": "execute_result"
    }
   ],
   "source": [
    "d.parse_url(u\"The official website for the book Practical NLP is http://www.practicalnlp.ai/\")"
   ]
  },
  {
   "cell_type": "code",
   "execution_count": 23,
   "metadata": {},
   "outputs": [
    {
     "data": {
      "text/plain": [
       "[{'dim': 'phone-number',\n",
       "  'text': '92-316-08765',\n",
       "  'start': 20,\n",
       "  'end': 32,\n",
       "  'value': {'value': '92-316-08765'}}]"
      ]
     },
     "execution_count": 23,
     "metadata": {},
     "output_type": "execute_result"
    }
   ],
   "source": [
    "d.parse_phone_number(u\"My phone number is: 92-316-08765\")"
   ]
  },
  {
   "cell_type": "code",
   "execution_count": null,
   "metadata": {},
   "outputs": [],
   "source": []
  }
 ],
 "metadata": {
  "kernelspec": {
   "display_name": "Python 3",
   "language": "python",
   "name": "python3"
  },
  "language_info": {
   "codemirror_mode": {
    "name": "ipython",
    "version": 3
   },
   "file_extension": ".py",
   "mimetype": "text/x-python",
   "name": "python",
   "nbconvert_exporter": "python",
   "pygments_lexer": "ipython3",
   "version": "3.7.3"
  }
 },
 "nbformat": 4,
 "nbformat_minor": 2
}
