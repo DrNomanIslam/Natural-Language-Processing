{
 "cells": [
  {
   "cell_type": "code",
   "execution_count": 3,
   "metadata": {},
   "outputs": [],
   "source": [
    "from gensim.models import Word2Vec"
   ]
  },
  {
   "cell_type": "code",
   "execution_count": 4,
   "metadata": {},
   "outputs": [],
   "source": [
    "corpus = [['dog','bites','man'], [\"man\", \"bites\" ,\"dog\"],[\"dog\",\"eats\",\"meat\"],[\"man\", \"eats\",\"food\"]]"
   ]
  },
  {
   "cell_type": "code",
   "execution_count": 5,
   "metadata": {},
   "outputs": [],
   "source": [
    "model_cbow = Word2Vec(corpus, min_count=1,sg=0) #using CBOW Architecture for trainnig"
   ]
  },
  {
   "cell_type": "code",
   "execution_count": 6,
   "metadata": {},
   "outputs": [],
   "source": [
    "model_skipgram = Word2Vec(corpus, min_count=1,sg=1)#using skipGram Architecture for training "
   ]
  },
  {
   "cell_type": "markdown",
   "metadata": {},
   "source": [
    "CBOW"
   ]
  },
  {
   "cell_type": "code",
   "execution_count": 7,
   "metadata": {},
   "outputs": [
    {
     "name": "stdout",
     "output_type": "stream",
     "text": [
      "Word2Vec<vocab=6, vector_size=100, alpha=0.025>\n"
     ]
    }
   ],
   "source": [
    "print(model_cbow)"
   ]
  },
  {
   "cell_type": "code",
   "execution_count": 13,
   "metadata": {},
   "outputs": [
    {
     "name": "stdout",
     "output_type": "stream",
     "text": [
      "['man', 'dog', 'eats', 'bites', 'food', 'meat']\n"
     ]
    }
   ],
   "source": [
    "words = list(model_cbow.wv.key_to_index.keys())\n",
    "print(words)"
   ]
  },
  {
   "cell_type": "code",
   "execution_count": 15,
   "metadata": {},
   "outputs": [
    {
     "name": "stdout",
     "output_type": "stream",
     "text": [
      "[-8.6196875e-03  3.6657380e-03  5.1898835e-03  5.7419371e-03\n",
      "  7.4669169e-03 -6.1676763e-03  1.1056137e-03  6.0472824e-03\n",
      " -2.8400517e-03 -6.1735227e-03 -4.1022300e-04 -8.3689503e-03\n",
      " -5.6000138e-03  7.1045374e-03  3.3525396e-03  7.2256685e-03\n",
      "  6.8002464e-03  7.5307419e-03 -3.7891555e-03 -5.6180713e-04\n",
      "  2.3483753e-03 -4.5190332e-03  8.3887316e-03 -9.8581649e-03\n",
      "  6.7646410e-03  2.9144168e-03 -4.9328329e-03  4.3981862e-03\n",
      " -1.7395759e-03  6.7113829e-03  9.9648498e-03 -4.3624449e-03\n",
      " -5.9933902e-04 -5.6956387e-03  3.8508223e-03  2.7866268e-03\n",
      "  6.8910765e-03  6.1010956e-03  9.5384959e-03  9.2734173e-03\n",
      "  7.8980681e-03 -6.9895051e-03 -9.1558648e-03 -3.5575390e-04\n",
      " -3.0998420e-03  7.8943158e-03  5.9385728e-03 -1.5456629e-03\n",
      "  1.5109634e-03  1.7900396e-03  7.8175711e-03 -9.5101884e-03\n",
      " -2.0553112e-04  3.4691954e-03 -9.3897345e-04  8.3817719e-03\n",
      "  9.0107825e-03  6.5365052e-03 -7.1162224e-04  7.7104042e-03\n",
      " -8.5343365e-03  3.2071066e-03 -4.6379971e-03 -5.0889566e-03\n",
      "  3.5896183e-03  5.3703380e-03  7.7695129e-03 -5.7665063e-03\n",
      "  7.4333595e-03  6.6254949e-03 -3.7098003e-03 -8.7456414e-03\n",
      "  5.4374672e-03  6.5097548e-03 -7.8755140e-04 -6.7098569e-03\n",
      " -7.0859264e-03 -2.4970602e-03  5.1432536e-03 -3.6652375e-03\n",
      " -9.3700597e-03  3.8267397e-03  4.8844791e-03 -6.4285635e-03\n",
      "  1.2085581e-03 -2.0748782e-03  2.4402141e-05 -9.8835090e-03\n",
      "  2.6920033e-03 -4.7501065e-03  1.0876465e-03 -1.5762257e-03\n",
      "  2.1966719e-03 -7.8815771e-03 -2.7171851e-03  2.6631975e-03\n",
      "  5.3466819e-03 -2.3915148e-03 -9.5100952e-03  4.5058774e-03]\n"
     ]
    }
   ],
   "source": [
    "print(model_cbow.wv['dog'])"
   ]
  },
  {
   "cell_type": "code",
   "execution_count": 17,
   "metadata": {},
   "outputs": [
    {
     "name": "stdout",
     "output_type": "stream",
     "text": [
      "Similarity between eats and bites: -0.013497116\n",
      "Similarity between eats and man: -0.052354384\n"
     ]
    }
   ],
   "source": [
    "print(\"Similarity between eats and bites:\",model_cbow.wv.similarity('eats', 'bites'))\n",
    "print(\"Similarity between eats and man:\",model_cbow.wv.similarity('eats', 'man'))"
   ]
  },
  {
   "cell_type": "code",
   "execution_count": 18,
   "metadata": {},
   "outputs": [
    {
     "data": {
      "text/plain": [
       "[('food', 0.13887985050678253),\n",
       " ('bites', 0.13149003684520721),\n",
       " ('eats', 0.06422410905361176),\n",
       " ('dog', 0.0093911811709404),\n",
       " ('man', -0.05987628549337387)]"
      ]
     },
     "execution_count": 18,
     "metadata": {},
     "output_type": "execute_result"
    }
   ],
   "source": [
    "model_cbow.wv.most_similar('meat')"
   ]
  },
  {
   "cell_type": "code",
   "execution_count": 19,
   "metadata": {},
   "outputs": [
    {
     "name": "stdout",
     "output_type": "stream",
     "text": [
      "Word2Vec<vocab=6, vector_size=100, alpha=0.025>\n"
     ]
    }
   ],
   "source": [
    "# save model\n",
    "model_cbow.save('model_cbow.bin')\n",
    "\n",
    "# load model\n",
    "new_model_cbow = Word2Vec.load('model_cbow.bin')\n",
    "print(new_model_cbow)"
   ]
  },
  {
   "cell_type": "markdown",
   "metadata": {},
   "source": [
    "Skipgram"
   ]
  },
  {
   "cell_type": "code",
   "execution_count": 22,
   "metadata": {},
   "outputs": [
    {
     "name": "stdout",
     "output_type": "stream",
     "text": [
      "Word2Vec<vocab=6, vector_size=100, alpha=0.025>\n",
      "['man', 'dog', 'eats', 'bites', 'food', 'meat']\n"
     ]
    }
   ],
   "source": [
    "print(model_skipgram)\n",
    "\n",
    "#Summarize vocabulary\n",
    "words = list(model_skipgram.wv.key_to_index.keys())\n",
    "print(words)"
   ]
  },
  {
   "cell_type": "code",
   "execution_count": 23,
   "metadata": {},
   "outputs": [
    {
     "name": "stdout",
     "output_type": "stream",
     "text": [
      "[-8.6196875e-03  3.6657380e-03  5.1898835e-03  5.7419371e-03\n",
      "  7.4669169e-03 -6.1676763e-03  1.1056137e-03  6.0472824e-03\n",
      " -2.8400517e-03 -6.1735227e-03 -4.1022300e-04 -8.3689503e-03\n",
      " -5.6000138e-03  7.1045374e-03  3.3525396e-03  7.2256685e-03\n",
      "  6.8002464e-03  7.5307419e-03 -3.7891555e-03 -5.6180713e-04\n",
      "  2.3483753e-03 -4.5190332e-03  8.3887316e-03 -9.8581649e-03\n",
      "  6.7646410e-03  2.9144168e-03 -4.9328329e-03  4.3981862e-03\n",
      " -1.7395759e-03  6.7113829e-03  9.9648498e-03 -4.3624449e-03\n",
      " -5.9933902e-04 -5.6956387e-03  3.8508223e-03  2.7866268e-03\n",
      "  6.8910765e-03  6.1010956e-03  9.5384959e-03  9.2734173e-03\n",
      "  7.8980681e-03 -6.9895051e-03 -9.1558648e-03 -3.5575390e-04\n",
      " -3.0998420e-03  7.8943158e-03  5.9385728e-03 -1.5456629e-03\n",
      "  1.5109634e-03  1.7900396e-03  7.8175711e-03 -9.5101884e-03\n",
      " -2.0553112e-04  3.4691954e-03 -9.3897345e-04  8.3817719e-03\n",
      "  9.0107825e-03  6.5365052e-03 -7.1162224e-04  7.7104042e-03\n",
      " -8.5343365e-03  3.2071066e-03 -4.6379971e-03 -5.0889566e-03\n",
      "  3.5896183e-03  5.3703380e-03  7.7695129e-03 -5.7665063e-03\n",
      "  7.4333595e-03  6.6254949e-03 -3.7098003e-03 -8.7456414e-03\n",
      "  5.4374672e-03  6.5097548e-03 -7.8755140e-04 -6.7098569e-03\n",
      " -7.0859264e-03 -2.4970602e-03  5.1432536e-03 -3.6652375e-03\n",
      " -9.3700597e-03  3.8267397e-03  4.8844791e-03 -6.4285635e-03\n",
      "  1.2085581e-03 -2.0748782e-03  2.4402141e-05 -9.8835090e-03\n",
      "  2.6920033e-03 -4.7501065e-03  1.0876465e-03 -1.5762257e-03\n",
      "  2.1966719e-03 -7.8815771e-03 -2.7171851e-03  2.6631975e-03\n",
      "  5.3466819e-03 -2.3915148e-03 -9.5100952e-03  4.5058774e-03]\n"
     ]
    }
   ],
   "source": [
    "#Acess vector for one word\n",
    "print(model_skipgram.wv['dog'])"
   ]
  },
  {
   "cell_type": "code",
   "execution_count": 24,
   "metadata": {},
   "outputs": [
    {
     "name": "stdout",
     "output_type": "stream",
     "text": [
      "Similarity between eats and bites: -0.013518803\n",
      "Similarity between eats and man: -0.052345116\n"
     ]
    }
   ],
   "source": [
    "#Compute similarity \n",
    "print(\"Similarity between eats and bites:\",model_skipgram.wv.similarity('eats', 'bites'))\n",
    "print(\"Similarity between eats and man:\",model_skipgram.wv.similarity('eats', 'man'))"
   ]
  },
  {
   "cell_type": "code",
   "execution_count": 25,
   "metadata": {},
   "outputs": [
    {
     "data": {
      "text/plain": [
       "[('food', 0.13887986540794373),\n",
       " ('bites', 0.1314900517463684),\n",
       " ('eats', 0.06406082957983017),\n",
       " ('dog', 0.0093911811709404),\n",
       " ('man', -0.059876274317502975)]"
      ]
     },
     "execution_count": 25,
     "metadata": {},
     "output_type": "execute_result"
    }
   ],
   "source": [
    "model_skipgram.wv.most_similar('meat')"
   ]
  },
  {
   "cell_type": "code",
   "execution_count": 26,
   "metadata": {},
   "outputs": [
    {
     "name": "stdout",
     "output_type": "stream",
     "text": [
      "Word2Vec<vocab=6, vector_size=100, alpha=0.025>\n"
     ]
    }
   ],
   "source": [
    "# save model\n",
    "model_skipgram.save('model_skipgram.bin')\n",
    "\n",
    "# load model\n",
    "new_model_skipgram = Word2Vec.load('model_skipgram.bin')\n",
    "print(new_model_skipgram)"
   ]
  },
  {
   "cell_type": "code",
   "execution_count": null,
   "metadata": {},
   "outputs": [],
   "source": []
  }
 ],
 "metadata": {
  "kernelspec": {
   "display_name": "Python 3",
   "language": "python",
   "name": "python3"
  },
  "language_info": {
   "codemirror_mode": {
    "name": "ipython",
    "version": 3
   },
   "file_extension": ".py",
   "mimetype": "text/x-python",
   "name": "python",
   "nbconvert_exporter": "python",
   "pygments_lexer": "ipython3",
   "version": "3.7.3"
  }
 },
 "nbformat": 4,
 "nbformat_minor": 2
}
