{
 "cells": [
  {
   "cell_type": "code",
   "execution_count": 31,
   "id": "a3332c5a",
   "metadata": {},
   "outputs": [],
   "source": [
    "import pandas as pd"
   ]
  },
  {
   "cell_type": "code",
   "execution_count": 32,
   "id": "5f990325",
   "metadata": {},
   "outputs": [],
   "source": [
    "df = pd.read_json('data.json')"
   ]
  },
  {
   "cell_type": "code",
   "execution_count": 33,
   "id": "f3b640d4",
   "metadata": {},
   "outputs": [
    {
     "data": {
      "text/plain": [
       "{'alt.atheism',\n",
       " 'comp.graphics',\n",
       " 'comp.os.ms-windows.misc',\n",
       " 'comp.sys.ibm.pc.hardware',\n",
       " 'comp.sys.mac.hardware',\n",
       " 'comp.windows.x',\n",
       " 'misc.forsale',\n",
       " 'rec.autos',\n",
       " 'rec.motorcycles',\n",
       " 'rec.sport.baseball',\n",
       " 'rec.sport.hockey',\n",
       " 'sci.crypt',\n",
       " 'sci.electronics',\n",
       " 'sci.med',\n",
       " 'sci.space',\n",
       " 'soc.religion.christian',\n",
       " 'talk.politics.guns',\n",
       " 'talk.politics.mideast',\n",
       " 'talk.politics.misc',\n",
       " 'talk.religion.misc'}"
      ]
     },
     "execution_count": 33,
     "metadata": {},
     "output_type": "execute_result"
    }
   ],
   "source": [
    "#The set of the topics\n",
    "set(df['target_names'])"
   ]
  },
  {
   "cell_type": "code",
   "execution_count": 34,
   "id": "bde7fe9f",
   "metadata": {},
   "outputs": [],
   "source": [
    "#Remove special characters from content\n",
    "import re\n",
    "\n",
    "def clean(data):\n",
    "    data = re.sub('\\S+@\\S+','',data)\n",
    "    data = re.sub('\\s',' ', data)\n",
    "    data = re.sub(\"\\''\",\"\",data)\n",
    "    data = re.sub(r'[^\\w\\s]', '', data)\n",
    "\n",
    "\n",
    "    return data\n",
    "\n",
    "df['content']=df['content'].apply(clean)"
   ]
  },
  {
   "cell_type": "code",
   "execution_count": 35,
   "id": "aa8479a6",
   "metadata": {},
   "outputs": [
    {
     "data": {
      "text/html": [
       "<div>\n",
       "<style scoped>\n",
       "    .dataframe tbody tr th:only-of-type {\n",
       "        vertical-align: middle;\n",
       "    }\n",
       "\n",
       "    .dataframe tbody tr th {\n",
       "        vertical-align: top;\n",
       "    }\n",
       "\n",
       "    .dataframe thead th {\n",
       "        text-align: right;\n",
       "    }\n",
       "</style>\n",
       "<table border=\"1\" class=\"dataframe\">\n",
       "  <thead>\n",
       "    <tr style=\"text-align: right;\">\n",
       "      <th></th>\n",
       "      <th>content</th>\n",
       "      <th>target</th>\n",
       "      <th>target_names</th>\n",
       "    </tr>\n",
       "  </thead>\n",
       "  <tbody>\n",
       "    <tr>\n",
       "      <th>0</th>\n",
       "      <td>From  wheres my thing Subject WHAT car is this...</td>\n",
       "      <td>7</td>\n",
       "      <td>rec.autos</td>\n",
       "    </tr>\n",
       "    <tr>\n",
       "      <th>1</th>\n",
       "      <td>From  Guy Kuo Subject SI Clock Poll  Final Cal...</td>\n",
       "      <td>4</td>\n",
       "      <td>comp.sys.mac.hardware</td>\n",
       "    </tr>\n",
       "    <tr>\n",
       "      <th>2</th>\n",
       "      <td>From  Thomas E Willis Subject PB questions Org...</td>\n",
       "      <td>4</td>\n",
       "      <td>comp.sys.mac.hardware</td>\n",
       "    </tr>\n",
       "    <tr>\n",
       "      <th>3</th>\n",
       "      <td>From  Joe Green Subject Re Weitek P9000  Organ...</td>\n",
       "      <td>1</td>\n",
       "      <td>comp.graphics</td>\n",
       "    </tr>\n",
       "    <tr>\n",
       "      <th>4</th>\n",
       "      <td>From  Jonathan McDowell Subject Re Shuttle Lau...</td>\n",
       "      <td>14</td>\n",
       "      <td>sci.space</td>\n",
       "    </tr>\n",
       "    <tr>\n",
       "      <th>...</th>\n",
       "      <td>...</td>\n",
       "      <td>...</td>\n",
       "      <td>...</td>\n",
       "    </tr>\n",
       "    <tr>\n",
       "      <th>11309</th>\n",
       "      <td>From  Jim Zisfein  Subject Re Migraines and sc...</td>\n",
       "      <td>13</td>\n",
       "      <td>sci.med</td>\n",
       "    </tr>\n",
       "    <tr>\n",
       "      <th>11310</th>\n",
       "      <td>From  Subject Screen Death Mac Plus512 Lines 2...</td>\n",
       "      <td>4</td>\n",
       "      <td>comp.sys.mac.hardware</td>\n",
       "    </tr>\n",
       "    <tr>\n",
       "      <th>11311</th>\n",
       "      <td>From  Will Estes Subject Mounting CPU Cooler i...</td>\n",
       "      <td>3</td>\n",
       "      <td>comp.sys.ibm.pc.hardware</td>\n",
       "    </tr>\n",
       "    <tr>\n",
       "      <th>11312</th>\n",
       "      <td>From  Steven Collins Subject Re Sphere from 4 ...</td>\n",
       "      <td>1</td>\n",
       "      <td>comp.graphics</td>\n",
       "    </tr>\n",
       "    <tr>\n",
       "      <th>11313</th>\n",
       "      <td>From  Kevin J Gunning Subject stolen CBR900RR ...</td>\n",
       "      <td>8</td>\n",
       "      <td>rec.motorcycles</td>\n",
       "    </tr>\n",
       "  </tbody>\n",
       "</table>\n",
       "<p>11314 rows × 3 columns</p>\n",
       "</div>"
      ],
      "text/plain": [
       "                                                 content  target  \\\n",
       "0      From  wheres my thing Subject WHAT car is this...       7   \n",
       "1      From  Guy Kuo Subject SI Clock Poll  Final Cal...       4   \n",
       "2      From  Thomas E Willis Subject PB questions Org...       4   \n",
       "3      From  Joe Green Subject Re Weitek P9000  Organ...       1   \n",
       "4      From  Jonathan McDowell Subject Re Shuttle Lau...      14   \n",
       "...                                                  ...     ...   \n",
       "11309  From  Jim Zisfein  Subject Re Migraines and sc...      13   \n",
       "11310  From  Subject Screen Death Mac Plus512 Lines 2...       4   \n",
       "11311  From  Will Estes Subject Mounting CPU Cooler i...       3   \n",
       "11312  From  Steven Collins Subject Re Sphere from 4 ...       1   \n",
       "11313  From  Kevin J Gunning Subject stolen CBR900RR ...       8   \n",
       "\n",
       "                   target_names  \n",
       "0                     rec.autos  \n",
       "1         comp.sys.mac.hardware  \n",
       "2         comp.sys.mac.hardware  \n",
       "3                 comp.graphics  \n",
       "4                     sci.space  \n",
       "...                         ...  \n",
       "11309                   sci.med  \n",
       "11310     comp.sys.mac.hardware  \n",
       "11311  comp.sys.ibm.pc.hardware  \n",
       "11312             comp.graphics  \n",
       "11313           rec.motorcycles  \n",
       "\n",
       "[11314 rows x 3 columns]"
      ]
     },
     "execution_count": 35,
     "metadata": {},
     "output_type": "execute_result"
    }
   ],
   "source": [
    "df"
   ]
  },
  {
   "cell_type": "code",
   "execution_count": 57,
   "id": "2c55a66e",
   "metadata": {},
   "outputs": [],
   "source": [
    "from sklearn.feature_extraction.text import CountVectorizer"
   ]
  },
  {
   "cell_type": "code",
   "execution_count": 58,
   "id": "65b7e9e7",
   "metadata": {},
   "outputs": [],
   "source": [
    "cv = CountVectorizer(min_df=10,lowercase=True)\n",
    "X = cv.fit_transform(df.content)"
   ]
  },
  {
   "cell_type": "code",
   "execution_count": 59,
   "id": "da49cf8b",
   "metadata": {},
   "outputs": [],
   "source": [
    "from sklearn.decomposition import LatentDirichletAllocation\n",
    "lda_model = LatentDirichletAllocation(n_components=20,               # Number of topics\n",
    "                                      max_iter=10,               # Max learning iterations\n",
    "                                      learning_method='online',   \n",
    "                                      random_state=100,          # Random state\n",
    "                                      batch_size=128,            # n docs in each learning iter\n",
    "                                      evaluate_every = -1,       # compute perplexity every n iters, default: Don't\n",
    "                                      n_jobs = -1,               # Use all available CPUs\n",
    "                                     )"
   ]
  },
  {
   "cell_type": "code",
   "execution_count": 60,
   "id": "403654e8",
   "metadata": {},
   "outputs": [],
   "source": [
    "lda_output = lda_model.fit_transform(X)"
   ]
  },
  {
   "cell_type": "code",
   "execution_count": 61,
   "id": "6232d758",
   "metadata": {},
   "outputs": [],
   "source": [
    "tf_feature_names = cv.get_feature_names()"
   ]
  },
  {
   "cell_type": "code",
   "execution_count": 63,
   "id": "e60d9f0b",
   "metadata": {},
   "outputs": [],
   "source": [
    "def display_topics(model, feature_names, no_top_words):\n",
    "    for topic_idx, topic in enumerate(model.components_):\n",
    "        print (\"Topic %d:\" % (topic_idx))\n",
    "        print(\" \".join([feature_names[i] for i in topic.argsort()[:-no_top_words - 1:-1]]))"
   ]
  },
  {
   "cell_type": "code",
   "execution_count": 67,
   "id": "ebcee7d3",
   "metadata": {},
   "outputs": [
    {
     "name": "stdout",
     "output_type": "stream",
     "text": [
      "Topic 0:\n",
      "organization lines\n",
      "Topic 1:\n",
      "the of\n",
      "Topic 2:\n",
      "for from\n",
      "Topic 3:\n",
      "10 25\n",
      "Topic 4:\n",
      "the of\n",
      "Topic 5:\n",
      "maxaxaxaxaxaxaxaxaxaxaxaxaxaxax adl\n",
      "Topic 6:\n",
      "car the\n",
      "Topic 7:\n",
      "__ ___\n",
      "Topic 8:\n",
      "the to\n",
      "Topic 9:\n",
      "of the\n",
      "Topic 10:\n",
      "the in\n",
      "Topic 11:\n",
      "team hockey\n",
      "Topic 12:\n",
      "of 1993\n",
      "Topic 13:\n",
      "the of\n",
      "Topic 14:\n",
      "the to\n",
      "Topic 15:\n",
      "550 gary\n",
      "Topic 16:\n",
      "of in\n",
      "Topic 17:\n",
      "the of\n",
      "Topic 18:\n",
      "jim la\n",
      "Topic 19:\n",
      "the and\n"
     ]
    }
   ],
   "source": [
    "display_topics(lda_model, tf_feature_names, 2)"
   ]
  },
  {
   "cell_type": "code",
   "execution_count": null,
   "id": "e6a4fdd3",
   "metadata": {},
   "outputs": [],
   "source": []
  }
 ],
 "metadata": {
  "kernelspec": {
   "display_name": "Python 3 (ipykernel)",
   "language": "python",
   "name": "python3"
  },
  "language_info": {
   "codemirror_mode": {
    "name": "ipython",
    "version": 3
   },
   "file_extension": ".py",
   "mimetype": "text/x-python",
   "name": "python",
   "nbconvert_exporter": "python",
   "pygments_lexer": "ipython3",
   "version": "3.9.7"
  }
 },
 "nbformat": 4,
 "nbformat_minor": 5
}
