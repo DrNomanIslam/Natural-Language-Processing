{
 "cells": [
  {
   "cell_type": "code",
   "execution_count": 2,
   "id": "5c0382f8",
   "metadata": {},
   "outputs": [],
   "source": [
    "import re"
   ]
  },
  {
   "cell_type": "markdown",
   "id": "72a87cc1",
   "metadata": {},
   "source": [
    "Write a Python program to check that a string contains only a certain set of characters (in this case a-z, A-Z and 0-9)."
   ]
  },
  {
   "cell_type": "code",
   "execution_count": 20,
   "id": "88951475",
   "metadata": {},
   "outputs": [
    {
     "name": "stdout",
     "output_type": "stream",
     "text": [
      "Text: How?\n"
     ]
    }
   ],
   "source": [
    "text= input('Text: ')"
   ]
  },
  {
   "cell_type": "code",
   "execution_count": 21,
   "id": "8a39c1d7",
   "metadata": {},
   "outputs": [
    {
     "name": "stdout",
     "output_type": "stream",
     "text": [
      "There are other charcters as well\n"
     ]
    }
   ],
   "source": [
    "if(re.search('[^a-zA-Z0-9]', text)):\n",
    "    print('There are other charcters as well')\n",
    "else:\n",
    "    print('There are no other characters')"
   ]
  },
  {
   "cell_type": "markdown",
   "id": "b20be1c3",
   "metadata": {},
   "source": [
    "Write a Python program that matches a string that has an a followed by zero or more b's."
   ]
  },
  {
   "cell_type": "code",
   "execution_count": 26,
   "id": "17908436",
   "metadata": {},
   "outputs": [
    {
     "data": {
      "text/plain": [
       "<re.Match object; span=(0, 6), match='abbbbb'>"
      ]
     },
     "execution_count": 26,
     "metadata": {},
     "output_type": "execute_result"
    }
   ],
   "source": [
    "re.search('ab*','abbbbb')"
   ]
  },
  {
   "cell_type": "markdown",
   "id": "d95cb2bc",
   "metadata": {},
   "source": [
    "Write a Python program that matches a string that has an a followed by one or more b's"
   ]
  },
  {
   "cell_type": "code",
   "execution_count": 28,
   "id": "5964fd8f",
   "metadata": {},
   "outputs": [],
   "source": [
    "re.search('ab+','a')"
   ]
  },
  {
   "cell_type": "markdown",
   "id": "39980d02",
   "metadata": {},
   "source": [
    "Write a Python program that matches a string that has an a followed by zero or one 'b'."
   ]
  },
  {
   "cell_type": "code",
   "execution_count": 30,
   "id": "27b16c85",
   "metadata": {},
   "outputs": [
    {
     "data": {
      "text/plain": [
       "<re.Match object; span=(0, 2), match='ab'>"
      ]
     },
     "execution_count": 30,
     "metadata": {},
     "output_type": "execute_result"
    }
   ],
   "source": [
    "re.search('ab?','abb')"
   ]
  },
  {
   "cell_type": "markdown",
   "id": "74ce8d7c",
   "metadata": {},
   "source": [
    "Write a Python program that matches a string that has an a followed by three 'b'"
   ]
  },
  {
   "cell_type": "code",
   "execution_count": 32,
   "id": "df9b1f57",
   "metadata": {},
   "outputs": [
    {
     "data": {
      "text/plain": [
       "<re.Match object; span=(0, 4), match='abbb'>"
      ]
     },
     "execution_count": 32,
     "metadata": {},
     "output_type": "execute_result"
    }
   ],
   "source": [
    "re.search('ab{3}','abbb')"
   ]
  },
  {
   "cell_type": "markdown",
   "id": "75498841",
   "metadata": {},
   "source": [
    "Write a Python program that matches a string that has an a followed by two to three 'b'"
   ]
  },
  {
   "cell_type": "code",
   "execution_count": 34,
   "id": "875602d4",
   "metadata": {},
   "outputs": [],
   "source": [
    "re.search('ab{2,3}','ab')"
   ]
  },
  {
   "cell_type": "markdown",
   "id": "78d85deb",
   "metadata": {},
   "source": [
    " Write a Python program to find sequences of lowercase letters joined with a underscore."
   ]
  },
  {
   "cell_type": "code",
   "execution_count": 35,
   "id": "1bcabedd",
   "metadata": {},
   "outputs": [
    {
     "data": {
      "text/plain": [
       "<re.Match object; span=(1, 7), match='ello_w'>"
      ]
     },
     "execution_count": 35,
     "metadata": {},
     "output_type": "execute_result"
    }
   ],
   "source": [
    "re.search('[a-z]*_[a-z]','Hello_w')"
   ]
  },
  {
   "cell_type": "markdown",
   "id": "b29397d6",
   "metadata": {},
   "source": [
    "Write a Python program to remove leading zeros from an IP address."
   ]
  },
  {
   "cell_type": "code",
   "execution_count": 36,
   "id": "b30b135c",
   "metadata": {},
   "outputs": [
    {
     "data": {
      "text/plain": [
       "'192.9.3.4'"
      ]
     },
     "execution_count": 36,
     "metadata": {},
     "output_type": "execute_result"
    }
   ],
   "source": [
    "re.sub('\\.[0]*','.','192.09.03.4')"
   ]
  },
  {
   "cell_type": "markdown",
   "id": "b35d927b",
   "metadata": {},
   "source": [
    "Write a Python program to replace whitespaces with an underscore and vice versa."
   ]
  },
  {
   "cell_type": "code",
   "execution_count": 38,
   "id": "5728d6e0",
   "metadata": {},
   "outputs": [
    {
     "data": {
      "text/plain": [
       "'The_brown_fox'"
      ]
     },
     "execution_count": 38,
     "metadata": {},
     "output_type": "execute_result"
    }
   ],
   "source": [
    "re.sub('\\s','_','The brown fox')"
   ]
  },
  {
   "cell_type": "markdown",
   "id": "99c0a13c",
   "metadata": {},
   "source": [
    "Write a Python program to extract year, month and date from an url."
   ]
  },
  {
   "cell_type": "code",
   "execution_count": 47,
   "id": "45932965",
   "metadata": {},
   "outputs": [
    {
     "data": {
      "text/plain": [
       "['2016/09/02']"
      ]
     },
     "execution_count": 47,
     "metadata": {},
     "output_type": "execute_result"
    }
   ],
   "source": [
    "re.findall('\\d{2,4}/\\d{1,2}/\\d{1,2}', 'https://www.washingtonpost.com/news/football-insider/wp/2016/09/02/')"
   ]
  },
  {
   "cell_type": "markdown",
   "id": "49898c08",
   "metadata": {},
   "source": [
    "Write a Python program to convert a date of yyyy-mm-dd format to dd-mm-yyyy format."
   ]
  },
  {
   "cell_type": "code",
   "execution_count": 53,
   "id": "101a0b72",
   "metadata": {},
   "outputs": [
    {
     "data": {
      "text/plain": [
       "'01-02-1982'"
      ]
     },
     "execution_count": 53,
     "metadata": {},
     "output_type": "execute_result"
    }
   ],
   "source": [
    "re.sub('(\\d{4})-(\\d{2})-(\\d{2})','\\\\3-\\\\2-\\\\1','1982-02-01')"
   ]
  },
  {
   "cell_type": "markdown",
   "id": "d590c33e",
   "metadata": {},
   "source": [
    "Write a Python program to replace all occurrences of space, comma, or dot with a colon."
   ]
  },
  {
   "cell_type": "code",
   "execution_count": 57,
   "id": "39c67169",
   "metadata": {},
   "outputs": [
    {
     "data": {
      "text/plain": [
       "'Hello::I::noman:am:fine'"
      ]
     },
     "execution_count": 57,
     "metadata": {},
     "output_type": "execute_result"
    }
   ],
   "source": [
    "re.sub('[ ,.]',':', 'Hello. I, noman am fine')"
   ]
  },
  {
   "cell_type": "markdown",
   "id": "30accda3",
   "metadata": {},
   "source": [
    "Write a Python program to find all five characters long word in a string. "
   ]
  },
  {
   "cell_type": "code",
   "execution_count": 66,
   "id": "08353217",
   "metadata": {},
   "outputs": [
    {
     "data": {
      "text/plain": [
       "['final']"
      ]
     },
     "execution_count": 66,
     "metadata": {},
     "output_type": "execute_result"
    }
   ],
   "source": [
    "re.findall(r'\\b\\w{5}\\b', 'This is final warning')"
   ]
  },
  {
   "cell_type": "markdown",
   "id": "b96c560c",
   "metadata": {},
   "source": [
    "Write a python program to convert camel case string to snake case string."
   ]
  },
  {
   "cell_type": "code",
   "execution_count": 77,
   "id": "f5442a23",
   "metadata": {},
   "outputs": [],
   "source": [
    "str = re.sub('(.)([A-Z][a-z]+)', r'\\1_\\2', 'helloWorld')"
   ]
  },
  {
   "cell_type": "code",
   "execution_count": 79,
   "id": "6b5c9403",
   "metadata": {},
   "outputs": [
    {
     "data": {
      "text/plain": [
       "'hello_world'"
      ]
     },
     "execution_count": 79,
     "metadata": {},
     "output_type": "execute_result"
    }
   ],
   "source": [
    "str.lower()"
   ]
  },
  {
   "cell_type": "markdown",
   "id": "7760f6c3",
   "metadata": {},
   "source": [
    "Write a Python program to extract values between quotation marks of a string."
   ]
  },
  {
   "cell_type": "code",
   "execution_count": 88,
   "id": "a818820c",
   "metadata": {},
   "outputs": [
    {
     "data": {
      "text/plain": [
       "['The brown fox']"
      ]
     },
     "execution_count": 88,
     "metadata": {},
     "output_type": "execute_result"
    }
   ],
   "source": [
    "re.findall(r'\"(.*)\"','\"The brown fox\"')"
   ]
  },
  {
   "cell_type": "markdown",
   "id": "ef096829",
   "metadata": {},
   "source": [
    "Write a Python program to remove all whitespaces from a string."
   ]
  },
  {
   "cell_type": "code",
   "execution_count": 89,
   "id": "24222f1b",
   "metadata": {},
   "outputs": [
    {
     "data": {
      "text/plain": [
       "'Thebrownfox'"
      ]
     },
     "execution_count": 89,
     "metadata": {},
     "output_type": "execute_result"
    }
   ],
   "source": [
    "re.sub('[ ]+','','The brown fox')"
   ]
  },
  {
   "cell_type": "markdown",
   "id": "68505088",
   "metadata": {},
   "source": [
    "Write a Python program to remove everything except alphanumeric characters from a string."
   ]
  },
  {
   "cell_type": "code",
   "execution_count": 91,
   "id": "d393c357",
   "metadata": {},
   "outputs": [
    {
     "data": {
      "text/plain": [
       "\"The is a questionIsn't it\""
      ]
     },
     "execution_count": 91,
     "metadata": {},
     "output_type": "execute_result"
    }
   ],
   "source": [
    "re.sub('[^a-zA-Z0-9] ','',\"The is a question? Isn't it\")"
   ]
  },
  {
   "cell_type": "markdown",
   "id": "236f844f",
   "metadata": {},
   "source": [
    "Write a Python program to split a string at uppercase letters."
   ]
  },
  {
   "cell_type": "code",
   "execution_count": 93,
   "id": "66b9271b",
   "metadata": {},
   "outputs": [
    {
     "data": {
      "text/plain": [
       "['', 'he brown fox ', 'plits']"
      ]
     },
     "execution_count": 93,
     "metadata": {},
     "output_type": "execute_result"
    }
   ],
   "source": [
    "re.split('[A-Z]','The brown fox Splits')"
   ]
  },
  {
   "cell_type": "code",
   "execution_count": null,
   "id": "a36306a7",
   "metadata": {},
   "outputs": [],
   "source": []
  }
 ],
 "metadata": {
  "kernelspec": {
   "display_name": "Python 3 (ipykernel)",
   "language": "python",
   "name": "python3"
  },
  "language_info": {
   "codemirror_mode": {
    "name": "ipython",
    "version": 3
   },
   "file_extension": ".py",
   "mimetype": "text/x-python",
   "name": "python",
   "nbconvert_exporter": "python",
   "pygments_lexer": "ipython3",
   "version": "3.9.7"
  }
 },
 "nbformat": 4,
 "nbformat_minor": 5
}
